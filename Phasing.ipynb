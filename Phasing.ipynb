{
  "cells": [
    {
      "cell_type": "markdown",
      "metadata": {},
      "source": [
        "### This is my implementation of my homework for phasing (as you can see only available tools are used)"
      ]
    },
    {
      "cell_type": "code",
      "execution_count": null,
      "metadata": {
        "id": "Zez1JOpCh7HU"
      },
      "outputs": [],
      "source": [
        "from google.colab import drive\n",
        "drive.mount(\"/content/gdrive\")"
      ]
    },
    {
      "cell_type": "code",
      "execution_count": null,
      "metadata": {
        "id": "_p6M3yQSxb5a"
      },
      "outputs": [],
      "source": [
        "!sudo apt install tabix"
      ]
    },
    {
      "cell_type": "code",
      "execution_count": null,
      "metadata": {
        "id": "Lib622LllA4T"
      },
      "outputs": [],
      "source": [
        "!sudo apt install bcftools\n",
        "!wget http://s3.amazonaws.com/plink2-assets/plink2_linux_x86_64_latest.zip\n",
        "!unzip plink2_linux_x86_64_latest.zip"
      ]
    },
    {
      "cell_type": "code",
      "execution_count": null,
      "metadata": {
        "id": "hM4cjvQimID0"
      },
      "outputs": [],
      "source": [
        "!mkdir results\n",
        "!cp -r /content/gdrive/MyDrive/practical_data /content/practical_data"
      ]
    },
    {
      "cell_type": "code",
      "execution_count": null,
      "metadata": {
        "id": "rSILJNZfpWsT"
      },
      "outputs": [],
      "source": [
        "!./plink2 --haps /content/practical_data/reference_panel/ref.chr1.hap  --legend /content/practical_data/reference_panel/ref.chr1.legend 1 --export vcf --out /content/results/ref.chr1\n",
        "!./plink2 --pfile /content/practical_data/population_genotype/population --export vcf  --out /content/results/population"
      ]
    },
    {
      "cell_type": "code",
      "execution_count": null,
      "metadata": {
        "id": "ueownuEBq5m6"
      },
      "outputs": [],
      "source": [
        "#creating gz file\n",
        "!bgzip -c results/population.vcf > results/population.vcf.gz\n",
        "!bgzip -c results/ref.chr1.vcf > results/ref.chr1.vcf.gz\n",
        "#indexing gz file\n",
        "!bcftools index results/population.vcf.gz\n",
        "!bcftools index results/ref.chr1.vcf.gz"
      ]
    },
    {
      "cell_type": "code",
      "execution_count": null,
      "metadata": {
        "id": "zOTBnfWguGvn"
      },
      "outputs": [],
      "source": [
        "##Shape-IT"
      ]
    },
    {
      "cell_type": "code",
      "execution_count": null,
      "metadata": {
        "id": "NPoZBKETvgZ5"
      },
      "outputs": [],
      "source": [
        "%cd /content\n",
        "!wget https://github.com/samtools/htslib/releases/download/1.16/htslib-1.16.tar.bz2\n",
        "!tar -xvf htslib-1.16.tar.bz2\n",
        "%cd /content/htslib-1.16\n",
        "!./configure --prefix=/usr/local/include\n",
        "!make\n",
        "!make install"
      ]
    },
    {
      "cell_type": "code",
      "execution_count": null,
      "metadata": {
        "id": "HjKMS_VmwoON"
      },
      "outputs": [],
      "source": [
        "%cd /content\n",
        "!wget https://boostorg.jfrog.io/artifactory/main/release/1.81.0/source/boost_1_81_0.tar.bz2\n",
        "!tar -xvf boost_1_81_0.tar.bz2\n",
        "%cd /content/boost_1_81_0\n",
        "!./bootstrap.sh"
      ]
    },
    {
      "cell_type": "code",
      "execution_count": null,
      "metadata": {
        "id": "DgyVjiGb5vs5"
      },
      "outputs": [],
      "source": [
        "%cd /content\n",
        "!wget https://github.com/odelaneau/shapeit4/archive/refs/tags/v4.2.2.tar.gz\n",
        "!tar -xf /content/v4.2.2.tar.gz"
      ]
    },
    {
      "cell_type": "code",
      "execution_count": null,
      "metadata": {
        "id": "xr9J-Hmu8RHe"
      },
      "outputs": [],
      "source": [
        "#Changing lines 5, 6 of shapeit's makefile with these:\n",
        "#/content/htslib-1.16\n",
        "#/content/htslib-1.16/libhts.a"
      ]
    },
    {
      "cell_type": "code",
      "execution_count": null,
      "metadata": {
        "id": "IpYm5Fr8_lbN"
      },
      "outputs": [],
      "source": [
        "%cd /content/shapeit4-4.2.2\n",
        "!make\n",
        "%cd /content\n",
        "!./shapeit4-4.2.2/bin/shapeit4.2 --input /content/results/population.vcf.gz --reference /content/results/ref.chr1.vcf.gz --region 1 --output /content/results/shapeit_phased_result.vcf.gz"
      ]
    },
    {
      "cell_type": "code",
      "execution_count": null,
      "metadata": {
        "id": "Dpgw_ZuBdpAY"
      },
      "outputs": [],
      "source": [
        "##Beagle"
      ]
    },
    {
      "cell_type": "code",
      "execution_count": null,
      "metadata": {
        "id": "D83Ba-ghdsi9"
      },
      "outputs": [],
      "source": [
        "!wget https://faculty.washington.edu/browning/beagle/beagle.22Jul22.46e.jar\n",
        "!java -jar beagle.22Jul22.46e.jar ref=results/ref.chr1.vcf.gz gt=results/population.vcf.gz out=results/phased_result"
      ]
    }
  ],
  "metadata": {
    "colab": {
      "provenance": []
    },
    "kernelspec": {
      "display_name": "ML_For_Bio",
      "language": "python",
      "name": "python3"
    },
    "language_info": {
      "name": "python",
      "version": "3.10.4 (v3.10.4:9d38120e33, Mar 23 2022, 17:29:05) [Clang 13.0.0 (clang-1300.0.29.30)]"
    },
    "vscode": {
      "interpreter": {
        "hash": "aec155f04e0d8eab8e60565928070ec36a9f3a8dace07266f46679c99718bd7c"
      }
    }
  },
  "nbformat": 4,
  "nbformat_minor": 0
}
